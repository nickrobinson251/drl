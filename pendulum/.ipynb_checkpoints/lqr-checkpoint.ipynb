{
 "cells": [
  {
   "cell_type": "code",
   "execution_count": 1,
   "metadata": {},
   "outputs": [],
   "source": [
    "import numpy as np\n",
    "from scipy.linalg import solve_discrete_are, inv"
   ]
  },
  {
   "cell_type": "code",
   "execution_count": 2,
   "metadata": {},
   "outputs": [],
   "source": [
    "def lqr(A,B,Q,R):\n",
    "    \"\"\"Solve for optimal infinite-horizon LQR gain matrix given\n",
    "    linear system x(t+1) = A x(t) + B u(t), and\n",
    "    cost function x(t)' Q x(t) + u(t)' R u(t)\n",
    "    \n",
    "    \n",
    "    Parameters\n",
    "    ----------\n",
    "    A : (M, M) array_like\n",
    "        Square matrix\n",
    "    B : (M, N) array_like\n",
    "        Input\n",
    "    Q : (M, M) array_like\n",
    "        Input\n",
    "    R : (N, N) array_like\n",
    "        Square matrix\n",
    "    \"\"\"\n",
    "    \n",
    "    # solve DARE:\n",
    "    M = solve_discrete_are(A,B,Q,R)\n",
    "\n",
    "    # K=(B'MB + R)^(-1)*(B'MA)\n",
    "    return np.dot(inv(np.dot(np.dot(B.T,M),B)+R),(np.dot(np.dot(B.T,M),A)))\n"
   ]
  },
  {
   "cell_type": "code",
   "execution_count": null,
   "metadata": {},
   "outputs": [],
   "source": []
  }
 ],
 "metadata": {
  "kernelspec": {
   "display_name": "Python 3",
   "language": "python",
   "name": "python3"
  },
  "language_info": {
   "codemirror_mode": {
    "name": "ipython",
    "version": 3
   },
   "file_extension": ".py",
   "mimetype": "text/x-python",
   "name": "python",
   "nbconvert_exporter": "python",
   "pygments_lexer": "ipython3",
   "version": "3.6.3"
  }
 },
 "nbformat": 4,
 "nbformat_minor": 2
}
